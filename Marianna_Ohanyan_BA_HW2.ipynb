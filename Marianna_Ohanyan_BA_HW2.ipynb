{
 "cells": [
  {
   "cell_type": "markdown",
   "metadata": {},
   "source": [
    "## Marianna Ohanyan \n",
    "## Bussiness Analytics hw2\n",
    "## 20 February, 2019"
   ]
  },
  {
   "cell_type": "markdown",
   "metadata": {},
   "source": [
    "### Assigment \n",
    "Use the Student_data.csv dataset to conduct a regression analysis and obtain a\n",
    "model explaining the student final grade (final column of the dataset).\n",
    "1. Choose all or several variables which you think can affect the student final\n",
    "grade.\n",
    "2. Estimate a linear regression model with OLS method to obtain the model\n",
    "parameters.\n",
    "3. Evaluate the overall model and say whether assumptions are met or not.\n",
    "4. Extend the model (using transformation, selection or shrinkage methods) to\n",
    "obtain a better model, if possible.\n",
    "5. Select the model which performs better on the test set or passes\n",
    "diagnostics best.\n",
    "6. Interpret the results obtained from the final model.\n"
   ]
  },
  {
   "cell_type": "code",
   "execution_count": 290,
   "metadata": {
    "scrolled": false
   },
   "outputs": [],
   "source": [
    "import pandas as pd #to read and manipulate data\n",
    "import matplotlib.pyplot as plt #to draw graphs\n",
    "import numpy as np #to do scientific computing if any\n",
    "import seaborn as sns #for heatmap\n",
    "from statsmodels.formula.api import ols\n",
    "from statsmodels.api import qqplot\n",
    "from statsmodels.stats.outliers_influence import variance_inflation_factor #for checking Multicolinearity\n",
    "from statsmodels.stats.diagnostic import linear_rainbow #linearity test\n",
    "from scipy.stats import shapiro #for checking normality\n",
    "from statsmodels.stats.diagnostic import het_breuschpagan #for Breusch-Pagan test test"
   ]
  },
  {
   "cell_type": "code",
   "execution_count": 177,
   "metadata": {},
   "outputs": [
    {
     "data": {
      "text/html": [
       "<div>\n",
       "<style scoped>\n",
       "    .dataframe tbody tr th:only-of-type {\n",
       "        vertical-align: middle;\n",
       "    }\n",
       "\n",
       "    .dataframe tbody tr th {\n",
       "        vertical-align: top;\n",
       "    }\n",
       "\n",
       "    .dataframe thead th {\n",
       "        text-align: right;\n",
       "    }\n",
       "</style>\n",
       "<table border=\"1\" class=\"dataframe\">\n",
       "  <thead>\n",
       "    <tr style=\"text-align: right;\">\n",
       "      <th></th>\n",
       "      <th>school2</th>\n",
       "      <th>sex</th>\n",
       "      <th>age</th>\n",
       "      <th>address</th>\n",
       "      <th>famsize</th>\n",
       "      <th>Pstatus</th>\n",
       "      <th>Medu</th>\n",
       "      <th>Fedu</th>\n",
       "      <th>Mjob</th>\n",
       "      <th>Fjob</th>\n",
       "      <th>...</th>\n",
       "      <th>internet</th>\n",
       "      <th>romantic</th>\n",
       "      <th>famrel</th>\n",
       "      <th>freetime</th>\n",
       "      <th>goout</th>\n",
       "      <th>Dalc</th>\n",
       "      <th>Walc</th>\n",
       "      <th>health</th>\n",
       "      <th>absences</th>\n",
       "      <th>Final_Grade</th>\n",
       "    </tr>\n",
       "  </thead>\n",
       "  <tbody>\n",
       "    <tr>\n",
       "      <th>0</th>\n",
       "      <td>GP</td>\n",
       "      <td>F</td>\n",
       "      <td>18</td>\n",
       "      <td>U</td>\n",
       "      <td>GT3</td>\n",
       "      <td>A</td>\n",
       "      <td>4</td>\n",
       "      <td>4</td>\n",
       "      <td>at_home</td>\n",
       "      <td>teacher</td>\n",
       "      <td>...</td>\n",
       "      <td>no</td>\n",
       "      <td>no</td>\n",
       "      <td>4</td>\n",
       "      <td>3</td>\n",
       "      <td>4</td>\n",
       "      <td>1</td>\n",
       "      <td>1</td>\n",
       "      <td>3</td>\n",
       "      <td>6</td>\n",
       "      <td>6</td>\n",
       "    </tr>\n",
       "    <tr>\n",
       "      <th>1</th>\n",
       "      <td>GP</td>\n",
       "      <td>F</td>\n",
       "      <td>17</td>\n",
       "      <td>U</td>\n",
       "      <td>GT3</td>\n",
       "      <td>T</td>\n",
       "      <td>1</td>\n",
       "      <td>1</td>\n",
       "      <td>at_home</td>\n",
       "      <td>other</td>\n",
       "      <td>...</td>\n",
       "      <td>yes</td>\n",
       "      <td>no</td>\n",
       "      <td>5</td>\n",
       "      <td>3</td>\n",
       "      <td>3</td>\n",
       "      <td>1</td>\n",
       "      <td>1</td>\n",
       "      <td>3</td>\n",
       "      <td>4</td>\n",
       "      <td>6</td>\n",
       "    </tr>\n",
       "    <tr>\n",
       "      <th>2</th>\n",
       "      <td>GP</td>\n",
       "      <td>F</td>\n",
       "      <td>15</td>\n",
       "      <td>U</td>\n",
       "      <td>LE3</td>\n",
       "      <td>T</td>\n",
       "      <td>1</td>\n",
       "      <td>1</td>\n",
       "      <td>at_home</td>\n",
       "      <td>other</td>\n",
       "      <td>...</td>\n",
       "      <td>yes</td>\n",
       "      <td>no</td>\n",
       "      <td>4</td>\n",
       "      <td>3</td>\n",
       "      <td>2</td>\n",
       "      <td>2</td>\n",
       "      <td>3</td>\n",
       "      <td>3</td>\n",
       "      <td>10</td>\n",
       "      <td>10</td>\n",
       "    </tr>\n",
       "    <tr>\n",
       "      <th>3</th>\n",
       "      <td>GP</td>\n",
       "      <td>F</td>\n",
       "      <td>15</td>\n",
       "      <td>U</td>\n",
       "      <td>GT3</td>\n",
       "      <td>T</td>\n",
       "      <td>4</td>\n",
       "      <td>2</td>\n",
       "      <td>health</td>\n",
       "      <td>services</td>\n",
       "      <td>...</td>\n",
       "      <td>yes</td>\n",
       "      <td>yes</td>\n",
       "      <td>3</td>\n",
       "      <td>2</td>\n",
       "      <td>2</td>\n",
       "      <td>1</td>\n",
       "      <td>1</td>\n",
       "      <td>5</td>\n",
       "      <td>2</td>\n",
       "      <td>15</td>\n",
       "    </tr>\n",
       "    <tr>\n",
       "      <th>4</th>\n",
       "      <td>GP</td>\n",
       "      <td>F</td>\n",
       "      <td>16</td>\n",
       "      <td>U</td>\n",
       "      <td>GT3</td>\n",
       "      <td>T</td>\n",
       "      <td>3</td>\n",
       "      <td>3</td>\n",
       "      <td>other</td>\n",
       "      <td>other</td>\n",
       "      <td>...</td>\n",
       "      <td>no</td>\n",
       "      <td>no</td>\n",
       "      <td>4</td>\n",
       "      <td>3</td>\n",
       "      <td>2</td>\n",
       "      <td>1</td>\n",
       "      <td>2</td>\n",
       "      <td>5</td>\n",
       "      <td>4</td>\n",
       "      <td>10</td>\n",
       "    </tr>\n",
       "  </tbody>\n",
       "</table>\n",
       "<p>5 rows × 31 columns</p>\n",
       "</div>"
      ],
      "text/plain": [
       "  school2 sex  age address famsize Pstatus  Medu  Fedu     Mjob      Fjob  \\\n",
       "0      GP   F   18       U     GT3       A     4     4  at_home   teacher   \n",
       "1      GP   F   17       U     GT3       T     1     1  at_home     other   \n",
       "2      GP   F   15       U     LE3       T     1     1  at_home     other   \n",
       "3      GP   F   15       U     GT3       T     4     2   health  services   \n",
       "4      GP   F   16       U     GT3       T     3     3    other     other   \n",
       "\n",
       "   ... internet romantic  famrel  freetime  goout Dalc Walc health absences  \\\n",
       "0  ...       no       no       4         3      4    1    1      3        6   \n",
       "1  ...      yes       no       5         3      3    1    1      3        4   \n",
       "2  ...      yes       no       4         3      2    2    3      3       10   \n",
       "3  ...      yes      yes       3         2      2    1    1      5        2   \n",
       "4  ...       no       no       4         3      2    1    2      5        4   \n",
       "\n",
       "  Final_Grade  \n",
       "0           6  \n",
       "1           6  \n",
       "2          10  \n",
       "3          15  \n",
       "4          10  \n",
       "\n",
       "[5 rows x 31 columns]"
      ]
     },
     "execution_count": 177,
     "metadata": {},
     "output_type": "execute_result"
    }
   ],
   "source": [
    "data = pd.read_excel('Student_data.xlsx')\n",
    "# droping the StudentId column as it is just enumeration\n",
    "data.drop([\"StudentID\"], axis=1, inplace=True)\n",
    "data.head()"
   ]
  },
  {
   "cell_type": "code",
   "execution_count": 178,
   "metadata": {
    "scrolled": true
   },
   "outputs": [
    {
     "data": {
      "text/plain": [
       "Final_Grade    0\n",
       "school2        0\n",
       "sex            0\n",
       "age            0\n",
       "guardian       0\n",
       "studytime      0\n",
       "schoolsup      0\n",
       "activities     0\n",
       "internet       0\n",
       "absences       0\n",
       "health         0\n",
       "Dalc           0\n",
       "Walc           0\n",
       "goout          0\n",
       "dtype: int64"
      ]
     },
     "execution_count": 178,
     "metadata": {},
     "output_type": "execute_result"
    }
   ],
   "source": [
    "df.isnull().sum()"
   ]
  },
  {
   "cell_type": "markdown",
   "metadata": {},
   "source": [
    "###### 1.We dont have missing values, and as an assumption I will take all variables in the model to predict student final grade \n"
   ]
  },
  {
   "cell_type": "code",
   "execution_count": 180,
   "metadata": {},
   "outputs": [
    {
     "data": {
      "text/plain": [
       "'school2+sex+age+address+famsize+Pstatus+Medu+Fedu+Mjob+Fjob+reason+guardian+traveltime+studytime+failures+schoolsup+famsup+paid+activities+nursery+higher+internet+romantic+famrel+freetime+goout+Dalc+Walc+health+absences'"
      ]
     },
     "execution_count": 180,
     "metadata": {},
     "output_type": "execute_result"
    }
   ],
   "source": [
    "variables_all=data.columns.tolist()\n",
    "variables_all.remove(\"Final_Grade\") \n",
    "variables_all =\"+\".join(variables_all)\n",
    "variables_all\n"
   ]
  },
  {
   "cell_type": "code",
   "execution_count": 292,
   "metadata": {},
   "outputs": [
    {
     "data": {
      "text/html": [
       "<table class=\"simpletable\">\n",
       "<caption>OLS Regression Results</caption>\n",
       "<tr>\n",
       "  <th>Dep. Variable:</th>       <td>Final_Grade</td>   <th>  R-squared:         </th> <td>   0.276</td>\n",
       "</tr>\n",
       "<tr>\n",
       "  <th>Model:</th>                   <td>OLS</td>       <th>  Adj. R-squared:    </th> <td>   0.196</td>\n",
       "</tr>\n",
       "<tr>\n",
       "  <th>Method:</th>             <td>Least Squares</td>  <th>  F-statistic:       </th> <td>   3.463</td>\n",
       "</tr>\n",
       "<tr>\n",
       "  <th>Date:</th>             <td>Wed, 20 Feb 2019</td> <th>  Prob (F-statistic):</th> <td>3.32e-10</td>\n",
       "</tr>\n",
       "<tr>\n",
       "  <th>Time:</th>                 <td>11:33:41</td>     <th>  Log-Likelihood:    </th> <td> -1097.5</td>\n",
       "</tr>\n",
       "<tr>\n",
       "  <th>No. Observations:</th>      <td>   395</td>      <th>  AIC:               </th> <td>   2275.</td>\n",
       "</tr>\n",
       "<tr>\n",
       "  <th>Df Residuals:</th>          <td>   355</td>      <th>  BIC:               </th> <td>   2434.</td>\n",
       "</tr>\n",
       "<tr>\n",
       "  <th>Df Model:</th>              <td>    39</td>      <th>                     </th>     <td> </td>   \n",
       "</tr>\n",
       "<tr>\n",
       "  <th>Covariance Type:</th>      <td>nonrobust</td>    <th>                     </th>     <td> </td>   \n",
       "</tr>\n",
       "</table>\n",
       "<table class=\"simpletable\">\n",
       "<tr>\n",
       "            <td></td>              <th>coef</th>     <th>std err</th>      <th>t</th>      <th>P>|t|</th>  <th>[0.025</th>    <th>0.975]</th>  \n",
       "</tr>\n",
       "<tr>\n",
       "  <th>Intercept</th>            <td>   14.0777</td> <td>    4.481</td> <td>    3.142</td> <td> 0.002</td> <td>    5.265</td> <td>   22.890</td>\n",
       "</tr>\n",
       "<tr>\n",
       "  <th>school2[T.MS]</th>        <td>    0.7256</td> <td>    0.792</td> <td>    0.917</td> <td> 0.360</td> <td>   -0.831</td> <td>    2.282</td>\n",
       "</tr>\n",
       "<tr>\n",
       "  <th>sex[T.M]</th>             <td>    1.2624</td> <td>    0.500</td> <td>    2.525</td> <td> 0.012</td> <td>    0.279</td> <td>    2.246</td>\n",
       "</tr>\n",
       "<tr>\n",
       "  <th>address[T.U]</th>         <td>    0.5513</td> <td>    0.584</td> <td>    0.944</td> <td> 0.346</td> <td>   -0.597</td> <td>    1.700</td>\n",
       "</tr>\n",
       "<tr>\n",
       "  <th>famsize[T.LE3]</th>       <td>    0.7028</td> <td>    0.488</td> <td>    1.439</td> <td> 0.151</td> <td>   -0.257</td> <td>    1.663</td>\n",
       "</tr>\n",
       "<tr>\n",
       "  <th>Pstatus[T.T]</th>         <td>   -0.3201</td> <td>    0.724</td> <td>   -0.442</td> <td> 0.659</td> <td>   -1.744</td> <td>    1.104</td>\n",
       "</tr>\n",
       "<tr>\n",
       "  <th>Mjob[T.health]</th>       <td>    0.9981</td> <td>    1.118</td> <td>    0.893</td> <td> 0.373</td> <td>   -1.201</td> <td>    3.197</td>\n",
       "</tr>\n",
       "<tr>\n",
       "  <th>Mjob[T.other]</th>        <td>   -0.3590</td> <td>    0.713</td> <td>   -0.503</td> <td> 0.615</td> <td>   -1.762</td> <td>    1.044</td>\n",
       "</tr>\n",
       "<tr>\n",
       "  <th>Mjob[T.services]</th>     <td>    0.6583</td> <td>    0.798</td> <td>    0.825</td> <td> 0.410</td> <td>   -0.911</td> <td>    2.227</td>\n",
       "</tr>\n",
       "<tr>\n",
       "  <th>Mjob[T.teacher]</th>      <td>   -1.2415</td> <td>    1.038</td> <td>   -1.196</td> <td> 0.233</td> <td>   -3.283</td> <td>    0.800</td>\n",
       "</tr>\n",
       "<tr>\n",
       "  <th>Fjob[T.health]</th>       <td>    0.3477</td> <td>    1.438</td> <td>    0.242</td> <td> 0.809</td> <td>   -2.480</td> <td>    3.176</td>\n",
       "</tr>\n",
       "<tr>\n",
       "  <th>Fjob[T.other]</th>        <td>   -0.6197</td> <td>    1.023</td> <td>   -0.606</td> <td> 0.545</td> <td>   -2.632</td> <td>    1.392</td>\n",
       "</tr>\n",
       "<tr>\n",
       "  <th>Fjob[T.services]</th>     <td>   -0.4658</td> <td>    1.057</td> <td>   -0.441</td> <td> 0.660</td> <td>   -2.544</td> <td>    1.613</td>\n",
       "</tr>\n",
       "<tr>\n",
       "  <th>Fjob[T.teacher]</th>      <td>    1.3262</td> <td>    1.297</td> <td>    1.023</td> <td> 0.307</td> <td>   -1.224</td> <td>    3.876</td>\n",
       "</tr>\n",
       "<tr>\n",
       "  <th>reason[T.home]</th>       <td>    0.0785</td> <td>    0.554</td> <td>    0.142</td> <td> 0.887</td> <td>   -1.011</td> <td>    1.168</td>\n",
       "</tr>\n",
       "<tr>\n",
       "  <th>reason[T.other]</th>      <td>    0.7771</td> <td>    0.818</td> <td>    0.950</td> <td> 0.343</td> <td>   -0.831</td> <td>    2.385</td>\n",
       "</tr>\n",
       "<tr>\n",
       "  <th>reason[T.reputation]</th> <td>    0.6130</td> <td>    0.577</td> <td>    1.063</td> <td> 0.288</td> <td>   -0.521</td> <td>    1.747</td>\n",
       "</tr>\n",
       "<tr>\n",
       "  <th>guardian[T.mother]</th>   <td>    0.0698</td> <td>    0.546</td> <td>    0.128</td> <td> 0.898</td> <td>   -1.003</td> <td>    1.143</td>\n",
       "</tr>\n",
       "<tr>\n",
       "  <th>guardian[T.other]</th>    <td>    0.7501</td> <td>    0.999</td> <td>    0.751</td> <td> 0.453</td> <td>   -1.216</td> <td>    2.716</td>\n",
       "</tr>\n",
       "<tr>\n",
       "  <th>schoolsup[T.yes]</th>     <td>   -1.3506</td> <td>    0.667</td> <td>   -2.025</td> <td> 0.044</td> <td>   -2.662</td> <td>   -0.039</td>\n",
       "</tr>\n",
       "<tr>\n",
       "  <th>famsup[T.yes]</th>        <td>   -0.8618</td> <td>    0.479</td> <td>   -1.800</td> <td> 0.073</td> <td>   -1.803</td> <td>    0.080</td>\n",
       "</tr>\n",
       "<tr>\n",
       "  <th>paid[T.yes]</th>          <td>    0.3397</td> <td>    0.478</td> <td>    0.711</td> <td> 0.477</td> <td>   -0.600</td> <td>    1.279</td>\n",
       "</tr>\n",
       "<tr>\n",
       "  <th>activities[T.yes]</th>    <td>   -0.3295</td> <td>    0.445</td> <td>   -0.741</td> <td> 0.459</td> <td>   -1.205</td> <td>    0.546</td>\n",
       "</tr>\n",
       "<tr>\n",
       "  <th>nursery[T.yes]</th>       <td>   -0.1773</td> <td>    0.549</td> <td>   -0.323</td> <td> 0.747</td> <td>   -1.258</td> <td>    0.903</td>\n",
       "</tr>\n",
       "<tr>\n",
       "  <th>higher[T.yes]</th>        <td>    1.3705</td> <td>    1.078</td> <td>    1.272</td> <td> 0.204</td> <td>   -0.749</td> <td>    3.490</td>\n",
       "</tr>\n",
       "<tr>\n",
       "  <th>internet[T.yes]</th>      <td>    0.4981</td> <td>    0.620</td> <td>    0.804</td> <td> 0.422</td> <td>   -0.720</td> <td>    1.717</td>\n",
       "</tr>\n",
       "<tr>\n",
       "  <th>romantic[T.yes]</th>      <td>   -1.0945</td> <td>    0.469</td> <td>   -2.332</td> <td> 0.020</td> <td>   -2.017</td> <td>   -0.172</td>\n",
       "</tr>\n",
       "<tr>\n",
       "  <th>age</th>                  <td>   -0.3752</td> <td>    0.217</td> <td>   -1.727</td> <td> 0.085</td> <td>   -0.802</td> <td>    0.052</td>\n",
       "</tr>\n",
       "<tr>\n",
       "  <th>Medu</th>                 <td>    0.4569</td> <td>    0.323</td> <td>    1.414</td> <td> 0.158</td> <td>   -0.179</td> <td>    1.092</td>\n",
       "</tr>\n",
       "<tr>\n",
       "  <th>Fedu</th>                 <td>   -0.1046</td> <td>    0.278</td> <td>   -0.377</td> <td> 0.707</td> <td>   -0.651</td> <td>    0.441</td>\n",
       "</tr>\n",
       "<tr>\n",
       "  <th>traveltime</th>           <td>   -0.2403</td> <td>    0.339</td> <td>   -0.709</td> <td> 0.479</td> <td>   -0.907</td> <td>    0.426</td>\n",
       "</tr>\n",
       "<tr>\n",
       "  <th>studytime</th>            <td>    0.5495</td> <td>    0.288</td> <td>    1.910</td> <td> 0.057</td> <td>   -0.016</td> <td>    1.115</td>\n",
       "</tr>\n",
       "<tr>\n",
       "  <th>failures</th>             <td>   -1.7240</td> <td>    0.333</td> <td>   -5.179</td> <td> 0.000</td> <td>   -2.379</td> <td>   -1.069</td>\n",
       "</tr>\n",
       "<tr>\n",
       "  <th>famrel</th>               <td>    0.2316</td> <td>    0.246</td> <td>    0.942</td> <td> 0.347</td> <td>   -0.252</td> <td>    0.715</td>\n",
       "</tr>\n",
       "<tr>\n",
       "  <th>freetime</th>             <td>    0.3024</td> <td>    0.237</td> <td>    1.274</td> <td> 0.203</td> <td>   -0.164</td> <td>    0.769</td>\n",
       "</tr>\n",
       "<tr>\n",
       "  <th>goout</th>                <td>   -0.5937</td> <td>    0.225</td> <td>   -2.644</td> <td> 0.009</td> <td>   -1.035</td> <td>   -0.152</td>\n",
       "</tr>\n",
       "<tr>\n",
       "  <th>Dalc</th>                 <td>   -0.2722</td> <td>    0.331</td> <td>   -0.823</td> <td> 0.411</td> <td>   -0.923</td> <td>    0.378</td>\n",
       "</tr>\n",
       "<tr>\n",
       "  <th>Walc</th>                 <td>    0.2634</td> <td>    0.248</td> <td>    1.062</td> <td> 0.289</td> <td>   -0.224</td> <td>    0.751</td>\n",
       "</tr>\n",
       "<tr>\n",
       "  <th>health</th>               <td>   -0.1768</td> <td>    0.161</td> <td>   -1.098</td> <td> 0.273</td> <td>   -0.493</td> <td>    0.140</td>\n",
       "</tr>\n",
       "<tr>\n",
       "  <th>absences</th>             <td>    0.0563</td> <td>    0.029</td> <td>    1.943</td> <td> 0.053</td> <td>   -0.001</td> <td>    0.113</td>\n",
       "</tr>\n",
       "</table>\n",
       "<table class=\"simpletable\">\n",
       "<tr>\n",
       "  <th>Omnibus:</th>       <td>30.431</td> <th>  Durbin-Watson:     </th> <td>   2.054</td>\n",
       "</tr>\n",
       "<tr>\n",
       "  <th>Prob(Omnibus):</th> <td> 0.000</td> <th>  Jarque-Bera (JB):  </th> <td>  35.239</td>\n",
       "</tr>\n",
       "<tr>\n",
       "  <th>Skew:</th>          <td>-0.696</td> <th>  Prob(JB):          </th> <td>2.23e-08</td>\n",
       "</tr>\n",
       "<tr>\n",
       "  <th>Kurtosis:</th>      <td> 3.450</td> <th>  Cond. No.          </th> <td>    443.</td>\n",
       "</tr>\n",
       "</table><br/><br/>Warnings:<br/>[1] Standard Errors assume that the covariance matrix of the errors is correctly specified."
      ],
      "text/plain": [
       "<class 'statsmodels.iolib.summary.Summary'>\n",
       "\"\"\"\n",
       "                            OLS Regression Results                            \n",
       "==============================================================================\n",
       "Dep. Variable:            Final_Grade   R-squared:                       0.276\n",
       "Model:                            OLS   Adj. R-squared:                  0.196\n",
       "Method:                 Least Squares   F-statistic:                     3.463\n",
       "Date:                Wed, 20 Feb 2019   Prob (F-statistic):           3.32e-10\n",
       "Time:                        11:33:41   Log-Likelihood:                -1097.5\n",
       "No. Observations:                 395   AIC:                             2275.\n",
       "Df Residuals:                     355   BIC:                             2434.\n",
       "Df Model:                          39                                         \n",
       "Covariance Type:            nonrobust                                         \n",
       "========================================================================================\n",
       "                           coef    std err          t      P>|t|      [0.025      0.975]\n",
       "----------------------------------------------------------------------------------------\n",
       "Intercept               14.0777      4.481      3.142      0.002       5.265      22.890\n",
       "school2[T.MS]            0.7256      0.792      0.917      0.360      -0.831       2.282\n",
       "sex[T.M]                 1.2624      0.500      2.525      0.012       0.279       2.246\n",
       "address[T.U]             0.5513      0.584      0.944      0.346      -0.597       1.700\n",
       "famsize[T.LE3]           0.7028      0.488      1.439      0.151      -0.257       1.663\n",
       "Pstatus[T.T]            -0.3201      0.724     -0.442      0.659      -1.744       1.104\n",
       "Mjob[T.health]           0.9981      1.118      0.893      0.373      -1.201       3.197\n",
       "Mjob[T.other]           -0.3590      0.713     -0.503      0.615      -1.762       1.044\n",
       "Mjob[T.services]         0.6583      0.798      0.825      0.410      -0.911       2.227\n",
       "Mjob[T.teacher]         -1.2415      1.038     -1.196      0.233      -3.283       0.800\n",
       "Fjob[T.health]           0.3477      1.438      0.242      0.809      -2.480       3.176\n",
       "Fjob[T.other]           -0.6197      1.023     -0.606      0.545      -2.632       1.392\n",
       "Fjob[T.services]        -0.4658      1.057     -0.441      0.660      -2.544       1.613\n",
       "Fjob[T.teacher]          1.3262      1.297      1.023      0.307      -1.224       3.876\n",
       "reason[T.home]           0.0785      0.554      0.142      0.887      -1.011       1.168\n",
       "reason[T.other]          0.7771      0.818      0.950      0.343      -0.831       2.385\n",
       "reason[T.reputation]     0.6130      0.577      1.063      0.288      -0.521       1.747\n",
       "guardian[T.mother]       0.0698      0.546      0.128      0.898      -1.003       1.143\n",
       "guardian[T.other]        0.7501      0.999      0.751      0.453      -1.216       2.716\n",
       "schoolsup[T.yes]        -1.3506      0.667     -2.025      0.044      -2.662      -0.039\n",
       "famsup[T.yes]           -0.8618      0.479     -1.800      0.073      -1.803       0.080\n",
       "paid[T.yes]              0.3397      0.478      0.711      0.477      -0.600       1.279\n",
       "activities[T.yes]       -0.3295      0.445     -0.741      0.459      -1.205       0.546\n",
       "nursery[T.yes]          -0.1773      0.549     -0.323      0.747      -1.258       0.903\n",
       "higher[T.yes]            1.3705      1.078      1.272      0.204      -0.749       3.490\n",
       "internet[T.yes]          0.4981      0.620      0.804      0.422      -0.720       1.717\n",
       "romantic[T.yes]         -1.0945      0.469     -2.332      0.020      -2.017      -0.172\n",
       "age                     -0.3752      0.217     -1.727      0.085      -0.802       0.052\n",
       "Medu                     0.4569      0.323      1.414      0.158      -0.179       1.092\n",
       "Fedu                    -0.1046      0.278     -0.377      0.707      -0.651       0.441\n",
       "traveltime              -0.2403      0.339     -0.709      0.479      -0.907       0.426\n",
       "studytime                0.5495      0.288      1.910      0.057      -0.016       1.115\n",
       "failures                -1.7240      0.333     -5.179      0.000      -2.379      -1.069\n",
       "famrel                   0.2316      0.246      0.942      0.347      -0.252       0.715\n",
       "freetime                 0.3024      0.237      1.274      0.203      -0.164       0.769\n",
       "goout                   -0.5937      0.225     -2.644      0.009      -1.035      -0.152\n",
       "Dalc                    -0.2722      0.331     -0.823      0.411      -0.923       0.378\n",
       "Walc                     0.2634      0.248      1.062      0.289      -0.224       0.751\n",
       "health                  -0.1768      0.161     -1.098      0.273      -0.493       0.140\n",
       "absences                 0.0563      0.029      1.943      0.053      -0.001       0.113\n",
       "==============================================================================\n",
       "Omnibus:                       30.431   Durbin-Watson:                   2.054\n",
       "Prob(Omnibus):                  0.000   Jarque-Bera (JB):               35.239\n",
       "Skew:                          -0.696   Prob(JB):                     2.23e-08\n",
       "Kurtosis:                       3.450   Cond. No.                         443.\n",
       "==============================================================================\n",
       "\n",
       "Warnings:\n",
       "[1] Standard Errors assume that the covariance matrix of the errors is correctly specified.\n",
       "\"\"\""
      ]
     },
     "execution_count": 292,
     "metadata": {},
     "output_type": "execute_result"
    }
   ],
   "source": [
    "model=ols(\"Final_Grade~\"+variables_all, data=data)\n",
    "results=model.fit()\n",
    "results.summary()"
   ]
  },
  {
   "cell_type": "markdown",
   "metadata": {},
   "source": [
    "### 2,3 Evaluation of linear model with all the parametrs\n",
    "\n",
    "R-squared and F-statistics: As Prob (F-statistic) shows our model is statistically significant at 5% significance leve, so there is at least one estimated coefficient (besides intercept) that is not null. R-squared is quite small number and it shows that 27.6% of variance in Student Final Grade is explained by the variables included in the model.\n",
    "\n",
    "Adj. R-squared: As summary shows it's 19.6% and it is not close to R-squared, which may signal about the existence of variables in the model, whose inclusion can be questioned.\n",
    "\n",
    "Statistically significant variables: As p-values of t-statistics show, all variables included in the model are not statistically significant at 5% sig. level (p<=0.05), so we need to remove some of them."
   ]
  },
  {
   "cell_type": "markdown",
   "metadata": {},
   "source": [
    "### 4.Continuing with improving the model, future actions:\n",
    "1) remove variables with hight correlation                                                    \n",
    "2) remove outliers from data                                                 \n",
    "3) step by step remove insignificant variables to close the gap between R squared and its R adjusted "
   ]
  },
  {
   "cell_type": "code",
   "execution_count": 90,
   "metadata": {},
   "outputs": [
    {
     "data": {
      "image/png": "[encoded data removed]",
      "text/plain": [
       "<Figure size 432x288 with 2 Axes>"
      ]
     },
     "metadata": {
      "needs_background": "light"
     },
     "output_type": "display_data"
    }
   ],
   "source": [
    "df.corr()\n",
    "sns.heatmap(df.corr().abs().round(2), annot=True)\n",
    "plt.show()"
   ]
  },
  {
   "cell_type": "markdown",
   "metadata": {},
   "source": [
    "We can see that independence condition is not satisfied so it is better to remove the variable \"Dalc\" from the model as it has correlation with other variable"
   ]
  },
  {
   "cell_type": "code",
   "execution_count": null,
   "metadata": {},
   "outputs": [],
   "source": [
    "data.describe()"
   ]
  },
  {
   "cell_type": "code",
   "execution_count": 128,
   "metadata": {
    "scrolled": false
   },
   "outputs": [
    {
     "data": {
      "image/png": "[encoded data removed]",
      "text/plain": [
       "<Figure size 432x288 with 1 Axes>"
      ]
     },
     "metadata": {
      "needs_background": "light"
     },
     "output_type": "display_data"
    }
   ],
   "source": [
    "plt.scatter(data.absences,data.Final_Grade)\n",
    "plt.show()"
   ]
  },
  {
   "cell_type": "markdown",
   "metadata": {},
   "source": [
    "We can observe outliers in the model so I m going to remove outliers using IQR from the model to improve it"
   ]
  },
  {
   "cell_type": "code",
   "execution_count": 293,
   "metadata": {},
   "outputs": [],
   "source": [
    "Q1 = data.quantile(0.25)\n",
    "Q3 = data.quantile(0.75)\n",
    "IQR = Q3 - Q1\n",
    "\n",
    "new_data = data[~((data < (Q1 - 1.5 * IQR)) |(data > (Q3 + 1.5 * IQR))).any(axis=1)]\n"
   ]
  },
  {
   "cell_type": "code",
   "execution_count": 294,
   "metadata": {
    "scrolled": false
   },
   "outputs": [
    {
     "data": {
      "text/plain": [
       "'school2+sex+age+address+famsize+Pstatus+Medu+Fedu+Mjob+Fjob+reason+guardian+traveltime+studytime+failures+schoolsup+famsup+paid+activities+nursery+higher+internet+romantic+famrel+freetime+goout+Walc+health+absences'"
      ]
     },
     "execution_count": 294,
     "metadata": {},
     "output_type": "execute_result"
    }
   ],
   "source": [
    "variables_new= new_data.columns.tolist()\n",
    "variables_new.remove(\"Dalc\")\n",
    "variables_new.remove(\"Final_Grade\")\n",
    "variables_new =\"+\".join(variables_new)\n",
    "variables_new"
   ]
  },
  {
   "cell_type": "code",
   "execution_count": 307,
   "metadata": {},
   "outputs": [],
   "source": [
    "variables_new = \"sex+age+Pstatus+Fedu+studytime+schoolsup+famsup+romantic\""
   ]
  },
  {
   "cell_type": "code",
   "execution_count": 308,
   "metadata": {
    "scrolled": false
   },
   "outputs": [
    {
     "data": {
      "text/html": [
       "<table class=\"simpletable\">\n",
       "<caption>OLS Regression Results</caption>\n",
       "<tr>\n",
       "  <th>Dep. Variable:</th>       <td>Final_Grade</td>   <th>  R-squared:         </th> <td>   0.184</td>\n",
       "</tr>\n",
       "<tr>\n",
       "  <th>Model:</th>                   <td>OLS</td>       <th>  Adj. R-squared:    </th> <td>   0.156</td>\n",
       "</tr>\n",
       "<tr>\n",
       "  <th>Method:</th>             <td>Least Squares</td>  <th>  F-statistic:       </th> <td>   6.485</td>\n",
       "</tr>\n",
       "<tr>\n",
       "  <th>Date:</th>             <td>Wed, 20 Feb 2019</td> <th>  Prob (F-statistic):</th> <td>1.30e-07</td>\n",
       "</tr>\n",
       "<tr>\n",
       "  <th>Time:</th>                 <td>12:27:27</td>     <th>  Log-Likelihood:    </th> <td> -646.99</td>\n",
       "</tr>\n",
       "<tr>\n",
       "  <th>No. Observations:</th>      <td>   239</td>      <th>  AIC:               </th> <td>   1312.</td>\n",
       "</tr>\n",
       "<tr>\n",
       "  <th>Df Residuals:</th>          <td>   230</td>      <th>  BIC:               </th> <td>   1343.</td>\n",
       "</tr>\n",
       "<tr>\n",
       "  <th>Df Model:</th>              <td>     8</td>      <th>                     </th>     <td> </td>   \n",
       "</tr>\n",
       "<tr>\n",
       "  <th>Covariance Type:</th>      <td>nonrobust</td>    <th>                     </th>     <td> </td>   \n",
       "</tr>\n",
       "</table>\n",
       "<table class=\"simpletable\">\n",
       "<tr>\n",
       "          <td></td>            <th>coef</th>     <th>std err</th>      <th>t</th>      <th>P>|t|</th>  <th>[0.025</th>    <th>0.975]</th>  \n",
       "</tr>\n",
       "<tr>\n",
       "  <th>Intercept</th>        <td>   21.9390</td> <td>    4.117</td> <td>    5.329</td> <td> 0.000</td> <td>   13.827</td> <td>   30.051</td>\n",
       "</tr>\n",
       "<tr>\n",
       "  <th>sex[T.M]</th>         <td>    1.4900</td> <td>    0.514</td> <td>    2.896</td> <td> 0.004</td> <td>    0.476</td> <td>    2.504</td>\n",
       "</tr>\n",
       "<tr>\n",
       "  <th>Pstatus[T.T]</th>     <td>   -1.9042</td> <td>    0.841</td> <td>   -2.264</td> <td> 0.025</td> <td>   -3.562</td> <td>   -0.247</td>\n",
       "</tr>\n",
       "<tr>\n",
       "  <th>schoolsup[T.yes]</th> <td>   -2.0945</td> <td>    0.775</td> <td>   -2.702</td> <td> 0.007</td> <td>   -3.622</td> <td>   -0.567</td>\n",
       "</tr>\n",
       "<tr>\n",
       "  <th>famsup[T.yes]</th>    <td>   -1.0500</td> <td>    0.518</td> <td>   -2.028</td> <td> 0.044</td> <td>   -2.070</td> <td>   -0.030</td>\n",
       "</tr>\n",
       "<tr>\n",
       "  <th>romantic[T.yes]</th>  <td>   -1.3306</td> <td>    0.538</td> <td>   -2.475</td> <td> 0.014</td> <td>   -2.390</td> <td>   -0.271</td>\n",
       "</tr>\n",
       "<tr>\n",
       "  <th>age</th>              <td>   -0.6879</td> <td>    0.231</td> <td>   -2.976</td> <td> 0.003</td> <td>   -1.143</td> <td>   -0.232</td>\n",
       "</tr>\n",
       "<tr>\n",
       "  <th>Fedu</th>             <td>    0.5640</td> <td>    0.233</td> <td>    2.424</td> <td> 0.016</td> <td>    0.106</td> <td>    1.022</td>\n",
       "</tr>\n",
       "<tr>\n",
       "  <th>studytime</th>        <td>    0.8296</td> <td>    0.371</td> <td>    2.238</td> <td> 0.026</td> <td>    0.099</td> <td>    1.560</td>\n",
       "</tr>\n",
       "</table>\n",
       "<table class=\"simpletable\">\n",
       "<tr>\n",
       "  <th>Omnibus:</th>       <td>40.264</td> <th>  Durbin-Watson:     </th> <td>   2.029</td>\n",
       "</tr>\n",
       "<tr>\n",
       "  <th>Prob(Omnibus):</th> <td> 0.000</td> <th>  Jarque-Bera (JB):  </th> <td>  65.774</td>\n",
       "</tr>\n",
       "<tr>\n",
       "  <th>Skew:</th>          <td>-0.936</td> <th>  Prob(JB):          </th> <td>5.22e-15</td>\n",
       "</tr>\n",
       "<tr>\n",
       "  <th>Kurtosis:</th>      <td> 4.761</td> <th>  Cond. No.          </th> <td>    293.</td>\n",
       "</tr>\n",
       "</table><br/><br/>Warnings:<br/>[1] Standard Errors assume that the covariance matrix of the errors is correctly specified."
      ],
      "text/plain": [
       "<class 'statsmodels.iolib.summary.Summary'>\n",
       "\"\"\"\n",
       "                            OLS Regression Results                            \n",
       "==============================================================================\n",
       "Dep. Variable:            Final_Grade   R-squared:                       0.184\n",
       "Model:                            OLS   Adj. R-squared:                  0.156\n",
       "Method:                 Least Squares   F-statistic:                     6.485\n",
       "Date:                Wed, 20 Feb 2019   Prob (F-statistic):           1.30e-07\n",
       "Time:                        12:27:27   Log-Likelihood:                -646.99\n",
       "No. Observations:                 239   AIC:                             1312.\n",
       "Df Residuals:                     230   BIC:                             1343.\n",
       "Df Model:                           8                                         \n",
       "Covariance Type:            nonrobust                                         \n",
       "====================================================================================\n",
       "                       coef    std err          t      P>|t|      [0.025      0.975]\n",
       "------------------------------------------------------------------------------------\n",
       "Intercept           21.9390      4.117      5.329      0.000      13.827      30.051\n",
       "sex[T.M]             1.4900      0.514      2.896      0.004       0.476       2.504\n",
       "Pstatus[T.T]        -1.9042      0.841     -2.264      0.025      -3.562      -0.247\n",
       "schoolsup[T.yes]    -2.0945      0.775     -2.702      0.007      -3.622      -0.567\n",
       "famsup[T.yes]       -1.0500      0.518     -2.028      0.044      -2.070      -0.030\n",
       "romantic[T.yes]     -1.3306      0.538     -2.475      0.014      -2.390      -0.271\n",
       "age                 -0.6879      0.231     -2.976      0.003      -1.143      -0.232\n",
       "Fedu                 0.5640      0.233      2.424      0.016       0.106       1.022\n",
       "studytime            0.8296      0.371      2.238      0.026       0.099       1.560\n",
       "==============================================================================\n",
       "Omnibus:                       40.264   Durbin-Watson:                   2.029\n",
       "Prob(Omnibus):                  0.000   Jarque-Bera (JB):               65.774\n",
       "Skew:                          -0.936   Prob(JB):                     5.22e-15\n",
       "Kurtosis:                       4.761   Cond. No.                         293.\n",
       "==============================================================================\n",
       "\n",
       "Warnings:\n",
       "[1] Standard Errors assume that the covariance matrix of the errors is correctly specified.\n",
       "\"\"\""
      ]
     },
     "execution_count": 308,
     "metadata": {},
     "output_type": "execute_result"
    }
   ],
   "source": [
    "model2=ols(\"Final_Grade~\"+variables_new, data=new_data)\n",
    "results=model2.fit()\n",
    "results.summary()"
   ]
  },
  {
   "cell_type": "markdown",
   "metadata": {},
   "source": [
    "# 5.Model diagnostics"
   ]
  },
  {
   "cell_type": "markdown",
   "metadata": {},
   "source": [
    "### Cecking for Linearity and Equal variance"
   ]
  },
  {
   "cell_type": "code",
   "execution_count": 302,
   "metadata": {},
   "outputs": [],
   "source": [
    "#residuals of the model\n",
    "residuals=results.resid\n",
    "pred_values=results.predict()"
   ]
  },
  {
   "cell_type": "code",
   "execution_count": 303,
   "metadata": {},
   "outputs": [
    {
     "data": {
      "image/png": "[encoded data removed]",
      "text/plain": [
       "<Figure size 720x360 with 1 Axes>"
      ]
     },
     "metadata": {
      "needs_background": "light"
     },
     "output_type": "display_data"
    }
   ],
   "source": [
    "#residuals of the model\n",
    "#lets plot predicted values vs residuals\n",
    "plt.figure(figsize=(10,5))\n",
    "plt.scatter(pred_values,residuals)\n",
    "plt.axhline(y=0, c=\"red\")\n",
    "plt.title(\"Residual vs Pred values\")\n",
    "plt.ylabel(\"Residuals\")\n",
    "plt.xlabel(\"Predicted values\")\n",
    "plt.show()"
   ]
  },
  {
   "cell_type": "code",
   "execution_count": 301,
   "metadata": {},
   "outputs": [
    {
     "data": {
      "text/plain": [
       "(0.6785438376799339, 0.9810048950648438)"
      ]
     },
     "execution_count": 301,
     "metadata": {},
     "output_type": "execute_result"
    }
   ],
   "source": [
    "linear_rainbow(results)"
   ]
  },
  {
   "cell_type": "markdown",
   "metadata": {},
   "source": [
    "As p value is big enough we can not reject the linearity of the model so we assume that it is linear so the \"L\" is satisfied"
   ]
  },
  {
   "cell_type": "code",
   "execution_count": 291,
   "metadata": {},
   "outputs": [
    {
     "data": {
      "text/plain": [
       "(6.623803793016468,\n",
       " 0.4690705727882366,\n",
       " 0.9406536845746626,\n",
       " 0.47582221835868166)"
      ]
     },
     "execution_count": 291,
     "metadata": {},
     "output_type": "execute_result"
    }
   ],
   "source": [
    "#Breusch-Pagan test for homoscedasticity\n",
    "#The null hypothesis assumes homoskedasticity\n",
    "#p-value<=0.05 shows that there is violation of homoscedasticity\n",
    "het_breuschpagan(residuals,model2.exog)"
   ]
  },
  {
   "cell_type": "markdown",
   "metadata": {},
   "source": [
    "we can see that homoskedasticity is not violated so \"E\" of line is satisfied "
   ]
  },
  {
   "cell_type": "markdown",
   "metadata": {},
   "source": [
    "### Normality"
   ]
  },
  {
   "cell_type": "code",
   "execution_count": 304,
   "metadata": {},
   "outputs": [
    {
     "data": {
      "image/png": "[encoded data removed]",
      "text/plain": [
       "<Figure size 432x288 with 1 Axes>"
      ]
     },
     "metadata": {
      "needs_background": "light"
     },
     "output_type": "display_data"
    }
   ],
   "source": [
    "#QQ plot\n",
    "qqplot(residuals,fit=True, line='45')\n",
    "plt.show()"
   ]
  },
  {
   "cell_type": "markdown",
   "metadata": {},
   "source": [
    "Residuals look far from normal which means we are in trouble. In particular, if the residual tend to be larger in magnitude than what we would expect from the normal distribution, then our p-values and confidence intervals may be too optimisitic. i.e., we may fail to adequately account for the full variability of the data. \"N\" is not satisfied"
   ]
  },
  {
   "cell_type": "code",
   "execution_count": 276,
   "metadata": {},
   "outputs": [
    {
     "data": {
      "text/html": [
       "<div>\n",
       "<style scoped>\n",
       "    .dataframe tbody tr th:only-of-type {\n",
       "        vertical-align: middle;\n",
       "    }\n",
       "\n",
       "    .dataframe tbody tr th {\n",
       "        vertical-align: top;\n",
       "    }\n",
       "\n",
       "    .dataframe thead th {\n",
       "        text-align: right;\n",
       "    }\n",
       "</style>\n",
       "<table border=\"1\" class=\"dataframe\">\n",
       "  <thead>\n",
       "    <tr style=\"text-align: right;\">\n",
       "      <th></th>\n",
       "      <th>sex</th>\n",
       "      <th>age</th>\n",
       "      <th>Fedu</th>\n",
       "      <th>studytime</th>\n",
       "      <th>schoolsup</th>\n",
       "      <th>famsup</th>\n",
       "      <th>romantic</th>\n",
       "    </tr>\n",
       "  </thead>\n",
       "  <tbody>\n",
       "    <tr>\n",
       "      <th>0</th>\n",
       "      <td>F</td>\n",
       "      <td>18</td>\n",
       "      <td>4</td>\n",
       "      <td>2</td>\n",
       "      <td>yes</td>\n",
       "      <td>no</td>\n",
       "      <td>no</td>\n",
       "    </tr>\n",
       "    <tr>\n",
       "      <th>1</th>\n",
       "      <td>F</td>\n",
       "      <td>17</td>\n",
       "      <td>1</td>\n",
       "      <td>2</td>\n",
       "      <td>no</td>\n",
       "      <td>yes</td>\n",
       "      <td>no</td>\n",
       "    </tr>\n",
       "    <tr>\n",
       "      <th>3</th>\n",
       "      <td>F</td>\n",
       "      <td>15</td>\n",
       "      <td>2</td>\n",
       "      <td>3</td>\n",
       "      <td>no</td>\n",
       "      <td>yes</td>\n",
       "      <td>yes</td>\n",
       "    </tr>\n",
       "    <tr>\n",
       "      <th>4</th>\n",
       "      <td>F</td>\n",
       "      <td>16</td>\n",
       "      <td>3</td>\n",
       "      <td>2</td>\n",
       "      <td>no</td>\n",
       "      <td>yes</td>\n",
       "      <td>no</td>\n",
       "    </tr>\n",
       "    <tr>\n",
       "      <th>5</th>\n",
       "      <td>M</td>\n",
       "      <td>16</td>\n",
       "      <td>3</td>\n",
       "      <td>2</td>\n",
       "      <td>no</td>\n",
       "      <td>yes</td>\n",
       "      <td>no</td>\n",
       "    </tr>\n",
       "  </tbody>\n",
       "</table>\n",
       "</div>"
      ],
      "text/plain": [
       "  sex  age  Fedu  studytime schoolsup famsup romantic\n",
       "0   F   18     4          2       yes     no       no\n",
       "1   F   17     1          2        no    yes       no\n",
       "3   F   15     2          3        no    yes      yes\n",
       "4   F   16     3          2        no    yes       no\n",
       "5   M   16     3          2        no    yes       no"
      ]
     },
     "execution_count": 276,
     "metadata": {},
     "output_type": "execute_result"
    }
   ],
   "source": [
    "df1.head()"
   ]
  },
  {
   "cell_type": "code",
   "execution_count": 284,
   "metadata": {},
   "outputs": [
    {
     "name": "stderr",
     "output_type": "stream",
     "text": [
      "/usr/local/lib/python3.7/site-packages/ipykernel_launcher.py:1: SettingWithCopyWarning: \n",
      "A value is trying to be set on a copy of a slice from a DataFrame.\n",
      "Try using .loc[row_indexer,col_indexer] = value instead\n",
      "\n",
      "See the caveats in the documentation: http://pandas.pydata.org/pandas-docs/stable/indexing.html#indexing-view-versus-copy\n",
      "  \"\"\"Entry point for launching an IPython kernel.\n",
      "/usr/local/lib/python3.7/site-packages/ipykernel_launcher.py:2: SettingWithCopyWarning: \n",
      "A value is trying to be set on a copy of a slice from a DataFrame.\n",
      "Try using .loc[row_indexer,col_indexer] = value instead\n",
      "\n",
      "See the caveats in the documentation: http://pandas.pydata.org/pandas-docs/stable/indexing.html#indexing-view-versus-copy\n",
      "  \n",
      "/usr/local/lib/python3.7/site-packages/ipykernel_launcher.py:3: SettingWithCopyWarning: \n",
      "A value is trying to be set on a copy of a slice from a DataFrame.\n",
      "Try using .loc[row_indexer,col_indexer] = value instead\n",
      "\n",
      "See the caveats in the documentation: http://pandas.pydata.org/pandas-docs/stable/indexing.html#indexing-view-versus-copy\n",
      "  This is separate from the ipykernel package so we can avoid doing imports until\n",
      "/usr/local/lib/python3.7/site-packages/ipykernel_launcher.py:4: SettingWithCopyWarning: \n",
      "A value is trying to be set on a copy of a slice from a DataFrame.\n",
      "Try using .loc[row_indexer,col_indexer] = value instead\n",
      "\n",
      "See the caveats in the documentation: http://pandas.pydata.org/pandas-docs/stable/indexing.html#indexing-view-versus-copy\n",
      "  after removing the cwd from sys.path.\n"
     ]
    }
   ],
   "source": [
    "new_data['schoolsup'] = (new_data['schoolsup'] == 'yes').apply(int)\n",
    "new_data['famsup'] = (new_data['famsup'] == 'yes').apply(int)\n",
    "new_data['romantic'] = (new_data['romantic'] == 'yes').apply(int)\n",
    "new_data['sex'] = (new_data['sex'] == 'M').apply(int)\n"
   ]
  },
  {
   "cell_type": "code",
   "execution_count": 288,
   "metadata": {},
   "outputs": [],
   "source": [
    "df1 = new_data[[\"sex\", \"age\", \"Fedu\", \"studytime\",\"schoolsup\",\"famsup\",\"romantic\"]]"
   ]
  },
  {
   "cell_type": "code",
   "execution_count": 287,
   "metadata": {},
   "outputs": [
    {
     "name": "stdout",
     "output_type": "stream",
     "text": [
      "[2.0848473251162605, 17.491735236529077, 7.416465313099297, 10.330361421821067, 1.1526423331841635, 2.8483949526314203, 1.473560032324029]\n"
     ]
    }
   ],
   "source": [
    "#let's create a list from the independent variables included in new_data model2\n",
    "my_list=[\"sex\", \"age\", \"Fedu\", \"studytime\",\"schoolsup\",\"famsup\",\"romantic\"]\n",
    "#calculating vif using variance_inflation_factor() function from statsmodel\n",
    "vif = [variance_inflation_factor(df1[my_list].values, i) for i in range(0,7)]\n",
    "print(vif) "
   ]
  },
  {
   "cell_type": "markdown",
   "metadata": {},
   "source": [
    "We can see that vif(age)>10 which means we have multicolinearity in our model , \"I\" is not satisfied"
   ]
  },
  {
   "cell_type": "markdown",
   "metadata": {},
   "source": [
    "#### Evaluation and interpretation of linear model with (sex,age,Pstatus,Fedu,studytime,schoolsup,famsup,romantic) parametrs\n",
    "Our model is not a very good one , as we can see \n",
    "R-squared and F-statistics: As Prob (F-statistic) shows our model is statistically significant at 5% significance level, R-squared is quite small number and it shows that 18.4% of variance in Student Final Grade is explained by the variables included in the model. However in this model \n",
    "\n",
    "Adj. R-squared is 15.6% which is close R-squared, which means that almost all variables included in the model have statistically significant relationship with Student Final grade.\n",
    "\n",
    "Statistically significant variables:  As p-values of t-statistics show, all variables included in the model are statistically significant at 5% sig. level (p<=0.05).\n",
    "\n",
    "Coefficients: if gender is Male , we have increase in final grade , however we can not know the exact increase as it is not the only dependant variable , if it was the only one ideally we will have increase (1,49 times) same goes with another cases, Fedu(fathers eduaction), More Studytime influesnce model positively. Whereas Pstatus T ,\n",
    "schoolsup, famsup, romantic, age influences negatively\t\n",
    "\n",
    "Moreover \"LINE\" is not satisfied , as Independance and Normality are violated -> model is not a good one, we can not predict accurately the final grade of student depending on the factors and that presented in this data set"
   ]
  },
  {
   "cell_type": "code",
   "execution_count": null,
   "metadata": {},
   "outputs": [],
   "source": []
  }
 ],
 "metadata": {
  "kernelspec": {
   "display_name": "Python 3",
   "language": "python",
   "name": "python3"
  },
  "language_info": {
   "codemirror_mode": {
    "name": "ipython",
    "version": 3
   },
   "file_extension": ".py",
   "mimetype": "text/x-python",
   "name": "python",
   "nbconvert_exporter": "python",
   "pygments_lexer": "ipython3",
   "version": "3.7.2"
  }
 },
 "nbformat": 4,
 "nbformat_minor": 2
}
